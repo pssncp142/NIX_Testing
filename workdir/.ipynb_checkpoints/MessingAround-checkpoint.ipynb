{
 "cells": [
  {
   "cell_type": "code",
   "execution_count": 1,
   "metadata": {},
   "outputs": [
    {
     "ename": "ImportError",
     "evalue": "cannot import name doGridAnalysis",
     "output_type": "error",
     "traceback": [
      "\u001b[0;31m---------------------------------------------------------------------------\u001b[0m",
      "\u001b[0;31mImportError\u001b[0m                               Traceback (most recent call last)",
      "\u001b[0;32m<ipython-input-1-fdce16062e85>\u001b[0m in \u001b[0;36m<module>\u001b[0;34m()\u001b[0m\n\u001b[1;32m      3\u001b[0m \u001b[0;32mfrom\u001b[0m \u001b[0mIPython\u001b[0m\u001b[0;34m.\u001b[0m\u001b[0mdisplay\u001b[0m \u001b[0;32mimport\u001b[0m \u001b[0mclear_output\u001b[0m\u001b[0;34m\u001b[0m\u001b[0m\n\u001b[1;32m      4\u001b[0m \u001b[0;34m\u001b[0m\u001b[0m\n\u001b[0;32m----> 5\u001b[0;31m \u001b[0;32mfrom\u001b[0m \u001b[0mNIX_Testing\u001b[0m \u001b[0;32mimport\u001b[0m \u001b[0mNIX_Image_List\u001b[0m\u001b[0;34m,\u001b[0m \u001b[0mNIX_Image\u001b[0m\u001b[0;34m,\u001b[0m \u001b[0mdoGridAnalysis\u001b[0m\u001b[0;34m,\u001b[0m \u001b[0mProgressBar\u001b[0m\u001b[0;34m\u001b[0m\u001b[0m\n\u001b[0m\u001b[1;32m      6\u001b[0m \u001b[0;32mfrom\u001b[0m \u001b[0mpylab\u001b[0m \u001b[0;32mimport\u001b[0m \u001b[0;34m*\u001b[0m\u001b[0;34m\u001b[0m\u001b[0m\n\u001b[1;32m      7\u001b[0m \u001b[0;32mfrom\u001b[0m \u001b[0mastropy\u001b[0m\u001b[0;34m.\u001b[0m\u001b[0mio\u001b[0m \u001b[0;32mimport\u001b[0m \u001b[0mfits\u001b[0m\u001b[0;34m\u001b[0m\u001b[0m\n",
      "\u001b[0;31mImportError\u001b[0m: cannot import name doGridAnalysis"
     ]
    }
   ],
   "source": [
    "%matplotlib notebook\n",
    "\n",
    "from IPython.display import clear_output\n",
    "\n",
    "from NIX_Testing import NIX_Image_List, NIX_Image, doGridAnalysis, ProgressBar\n",
    "from pylab import *\n",
    "from astropy.io import fits\n",
    "from lmfit.models import PolynomialModel\n",
    "import pickle\n",
    "import multiprocessing as mp\n",
    "\n",
    "data_dir = '/home/ydallilar/Documents/NIX/nixDetBackup'\n",
    "\n",
    "test_ids = ['PER-124-04-1']\n",
    "config = {'test_ids' : test_ids, 'data_dir' : data_dir}\n",
    "NIX_GL = NIX_Image_List(config)"
   ]
  },
  {
   "cell_type": "code",
   "execution_count": null,
   "metadata": {},
   "outputs": [],
   "source": []
  },
  {
   "cell_type": "code",
   "execution_count": null,
   "metadata": {},
   "outputs": [],
   "source": [
    "def mlinregress(data1, data2, extend=10, cpu=6):\n",
    "    pb = ProgressBar()\n",
    "    angs = zeros([2048, 2048])\n",
    "    lins = zeros([2048, 2048])\n",
    "    Rs = zeros([2048, 2048])\n",
    "    pool = mp.Pool(cpu)\n",
    "    for i in range(2048):\n",
    "        arr1s = [data1[i,j,:extend] for j in range(2048)]\n",
    "        arr2s = [data2[i,j,:extend] for j in range(2048)]\n",
    "        out = pool.map(do_linregress, zip(arr1s, arr2s))\n",
    "        for j in range(2048):\n",
    "            angs[i,j], lins[i,j], Rs[i,j] = out[j][0], out[j][1], out[j][2]\n",
    "            \n",
    "        pb.report(i+1, 2048)\n",
    "    return angs, lins, Rs\n",
    "    \n",
    "def do_linregress(args):\n",
    "    arr1, arr2 = args\n",
    "    ang, lin, R, _, _ = linregress(arr1, arr2)\n",
    "    return ang, lin, R\n"
   ]
  },
  {
   "cell_type": "code",
   "execution_count": null,
   "metadata": {},
   "outputs": [],
   "source": [
    "sz = len(NIX_GL)/2\n",
    "\n",
    "ref = zeros([2048, 2048, sz/2])\n",
    "ims = zeros([2048, 2048, sz/2])\n",
    "exps = zeros([2048, 2048, sz/2])\n",
    "\n",
    "for i in range(sz/2):\n",
    "    ims[:,:,i] = NIX_GL[2*i+40].getImage(dark=NIX_GL[2*i])\n",
    "    ref[:,:,i] = ims[:,:,0]*(2+2*i)\n",
    "    exps[:,:,i] = 2+2*i"
   ]
  },
  {
   "cell_type": "code",
   "execution_count": null,
   "metadata": {},
   "outputs": [],
   "source": [
    "hist, binsx, binsy = histogram2d(ravel(ims), ravel(exps), \n",
    "                                 bins=[arange(0, 18001, 100), arange(1, 42, 2)])\n",
    "\n",
    "hist = repeat(hist, 8, axis=1)\n",
    "print hist.shape, binsx.shape, binsy.shape\n",
    "#contour(binsy[1:], binsx[1:], hist)\n",
    "#print hist\n",
    "imshow(hist)\n",
    "gca().invert_yaxis()\n",
    "show()\n",
    "print amax(hist)\n"
   ]
  },
  {
   "cell_type": "code",
   "execution_count": null,
   "metadata": {},
   "outputs": [],
   "source": [
    "from scipy.stats import linregress\n",
    "lins = zeros([2048, 2048])\n",
    "angs = zeros([2048, 2048])\n",
    "rs = zeros([2048, 2048])\n",
    "\n",
    "angs, lins, rs = mlinregress(exps, ims,cpu=6)\n",
    "\n",
    "#for i in range(2048):\n",
    "#    progressbar(i, 2048)\n",
    "#    for j in range(2048):\n",
    "#        angs[i,j], lins[i,j], rs[i,j], _, _ = linregress(exps[i,j,:10], ims[i,j,:10])"
   ]
  },
  {
   "cell_type": "code",
   "execution_count": null,
   "metadata": {},
   "outputs": [],
   "source": []
  },
  {
   "cell_type": "code",
   "execution_count": null,
   "metadata": {},
   "outputs": [],
   "source": [
    "%matplotlib inline\n",
    "figure()\n",
    "imshow(lins)\n",
    "gca().invert_yaxis()\n",
    "fits.PrimaryHDU(lins).writeto(\"out/reg_lins.fits\", overwrite=True)\n",
    "figure()\n",
    "imshow(angs)\n",
    "gca().invert_yaxis()\n",
    "fits.PrimaryHDU(angs).writeto(\"out/reg_angs.fits\", overwrite=True)\n",
    "figure()\n",
    "imshow(rs**2)\n",
    "gca().invert_yaxis()\n",
    "fits.PrimaryHDU(rs**2).writeto(\"out/reg_R2.fits\", overwrite=True)\n",
    "\n",
    "NPhot = (ims[:,:,10]-lins)/angs\n",
    "\n",
    "fits.PrimaryHDU(NPhot).writeto(\"out/reg_NPhot.fits\", overwrite=True)\n",
    "fits.PrimaryHDU(ims[:,:,10]).writeto(\"out/reg_Orig.fits\", overwrite=True)\n",
    "fits.PrimaryHDU(ims[:,:,10]/NPhot).writeto(\"out/reg_test.fits\", overwrite=True)"
   ]
  },
  {
   "cell_type": "code",
   "execution_count": null,
   "metadata": {},
   "outputs": [],
   "source": []
  }
 ],
 "metadata": {
  "kernelspec": {
   "display_name": "Python 2",
   "language": "python",
   "name": "python2"
  },
  "language_info": {
   "codemirror_mode": {
    "name": "ipython",
    "version": 2
   },
   "file_extension": ".py",
   "mimetype": "text/x-python",
   "name": "python",
   "nbconvert_exporter": "python",
   "pygments_lexer": "ipython2",
   "version": "2.7.16"
  }
 },
 "nbformat": 4,
 "nbformat_minor": 2
}
