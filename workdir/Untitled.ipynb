{
 "cells": [
  {
   "cell_type": "code",
   "execution_count": 1,
   "metadata": {},
   "outputs": [],
   "source": [
    "from NIX_Testing import NIX_Image_List, NIX_Image\n",
    "import matplotlib.pyplot as plt\n"
   ]
  },
  {
   "cell_type": "code",
   "execution_count": 2,
   "metadata": {},
   "outputs": [],
   "source": [
    "data_dir = '/home/ydallilar/Documents/NIX/nixDetBackup'"
   ]
  },
  {
   "cell_type": "code",
   "execution_count": 3,
   "metadata": {},
   "outputs": [],
   "source": [
    "test_ids = ['PER-124-04-1']\n",
    "config = {'test_ids' : test_ids, 'data_dir' : data_dir}\n",
    "NIX_GL = NIX_Image_List(config)"
   ]
  },
  {
   "cell_type": "code",
   "execution_count": 4,
   "metadata": {},
   "outputs": [
    {
     "name": "stdout",
     "output_type": "stream",
     "text": [
      " NDX             TEST_ID,                                FILENAME,             MJD-OBS,        DET_SEQ1_DIT\n",
      "0000        PER-124-04-1,ERIS_NIX_TEC_LABGAINLINEARITY239_0016.fits,       58722.6505779,                 2.0\n",
      "0001        PER-124-04-1,ERIS_NIX_TEC_LABGAINLINEARITY239_0017.fits,       58722.6508073,                 2.0\n",
      "0002        PER-124-04-1,ERIS_NIX_TEC_LABGAINLINEARITY239_0018.fits,       58722.6510329,                 4.0\n",
      "0003        PER-124-04-1,ERIS_NIX_TEC_LABGAINLINEARITY239_0019.fits,       58722.6513611,                 4.0\n",
      "0004        PER-124-04-1,ERIS_NIX_TEC_LABGAINLINEARITY239_0020.fits,       58722.6516686,                 6.0\n",
      "0005        PER-124-04-1,ERIS_NIX_TEC_LABGAINLINEARITY239_0021.fits,       58722.6520992,                 6.0\n",
      "0006        PER-124-04-1,ERIS_NIX_TEC_LABGAINLINEARITY239_0022.fits,       58722.6524914,                 8.0\n",
      "0007        PER-124-04-1,ERIS_NIX_TEC_LABGAINLINEARITY239_0023.fits,       58722.6530026,                 8.0\n",
      "0008        PER-124-04-1,ERIS_NIX_TEC_LABGAINLINEARITY239_0024.fits,       58722.6534943,                10.0\n",
      "0009        PER-124-04-1,ERIS_NIX_TEC_LABGAINLINEARITY239_0025.fits,       58722.6540903,                10.0\n",
      "0010        PER-124-04-1,ERIS_NIX_TEC_LABGAINLINEARITY239_0026.fits,       58722.6546769,                12.0\n",
      "0011        PER-124-04-1,ERIS_NIX_TEC_LABGAINLINEARITY239_0027.fits,       58722.6553689,                12.0\n",
      "0012        PER-124-04-1,ERIS_NIX_TEC_LABGAINLINEARITY239_0028.fits,       58722.6560589,                14.0\n",
      "0013        PER-124-04-1,ERIS_NIX_TEC_LABGAINLINEARITY239_0029.fits,       58722.6568481,                14.0\n",
      "0014        PER-124-04-1,ERIS_NIX_TEC_LABGAINLINEARITY239_0030.fits,       58722.6576097,                16.0\n",
      "0015        PER-124-04-1,ERIS_NIX_TEC_LABGAINLINEARITY239_0031.fits,        58722.658489,                16.0\n",
      "0016        PER-124-04-1,ERIS_NIX_TEC_LABGAINLINEARITY239_0032.fits,       58722.6593513,                18.0\n",
      "0017        PER-124-04-1,ERIS_NIX_TEC_LABGAINLINEARITY239_0033.fits,       58722.6603186,                18.0\n",
      "0018        PER-124-04-1,ERIS_NIX_TEC_LABGAINLINEARITY239_0034.fits,       58722.6612904,                20.0\n",
      "0019        PER-124-04-1,ERIS_NIX_TEC_LABGAINLINEARITY239_0035.fits,       58722.6623547,                20.0\n",
      "0020        PER-124-04-1,ERIS_NIX_TEC_LABGAINLINEARITY239_0036.fits,       58722.6633989,                22.0\n",
      "0021        PER-124-04-1,ERIS_NIX_TEC_LABGAINLINEARITY239_0037.fits,        58722.664556,                22.0\n",
      "0022        PER-124-04-1,ERIS_NIX_TEC_LABGAINLINEARITY239_0038.fits,       58722.6657116,                24.0\n",
      "0023        PER-124-04-1,ERIS_NIX_TEC_LABGAINLINEARITY239_0039.fits,       58722.6669628,                24.0\n",
      "0024        PER-124-04-1,ERIS_NIX_TEC_LABGAINLINEARITY239_0040.fits,       58722.6681923,                26.0\n",
      "0025        PER-124-04-1,ERIS_NIX_TEC_LABGAINLINEARITY239_0041.fits,       58722.6695363,                26.0\n",
      "0026        PER-124-04-1,ERIS_NIX_TEC_LABGAINLINEARITY239_0042.fits,       58722.6708561,                28.0\n",
      "0027        PER-124-04-1,ERIS_NIX_TEC_LABGAINLINEARITY239_0043.fits,       58722.6722911,                28.0\n",
      "0028        PER-124-04-1,ERIS_NIX_TEC_LABGAINLINEARITY239_0044.fits,       58722.6737258,                30.0\n",
      "0029        PER-124-04-1,ERIS_NIX_TEC_LABGAINLINEARITY239_0045.fits,       58722.6752517,                30.0\n",
      "0030        PER-124-04-1,ERIS_NIX_TEC_LABGAINLINEARITY239_0046.fits,       58722.6767667,                32.0\n",
      "0031        PER-124-04-1,ERIS_NIX_TEC_LABGAINLINEARITY239_0047.fits,       58722.6783898,                32.0\n",
      "0032        PER-124-04-1,ERIS_NIX_TEC_LABGAINLINEARITY239_0048.fits,       58722.6799947,                34.0\n",
      "0033        PER-124-04-1,ERIS_NIX_TEC_LABGAINLINEARITY239_0049.fits,       58722.6817088,                34.0\n",
      "0034        PER-124-04-1,ERIS_NIX_TEC_LABGAINLINEARITY239_0050.fits,       58722.6834014,                36.0\n",
      "0035        PER-124-04-1,ERIS_NIX_TEC_LABGAINLINEARITY239_0051.fits,       58722.6852069,                36.0\n",
      "0036        PER-124-04-1,ERIS_NIX_TEC_LABGAINLINEARITY239_0052.fits,        58722.687003,                38.0\n",
      "0037        PER-124-04-1,ERIS_NIX_TEC_LABGAINLINEARITY239_0053.fits,       58722.6889055,                38.0\n",
      "0038        PER-124-04-1,ERIS_NIX_TEC_LABGAINLINEARITY239_0054.fits,       58722.6907871,                40.0\n",
      "0039        PER-124-04-1,ERIS_NIX_TEC_LABGAINLINEARITY239_0055.fits,       58722.6927705,                40.0\n",
      "0040        PER-124-04-1,ERIS_NIX_TEC_LABGAINLINEARITY239_0056.fits,        58722.694948,                 2.0\n",
      "0041        PER-124-04-1,ERIS_NIX_TEC_LABGAINLINEARITY239_0057.fits,       58722.6951824,                 2.0\n",
      "0042        PER-124-04-1,ERIS_NIX_TEC_LABGAINLINEARITY239_0058.fits,       58722.6954398,                 4.0\n",
      "0043        PER-124-04-1,ERIS_NIX_TEC_LABGAINLINEARITY239_0059.fits,       58722.6957571,                 4.0\n",
      "0044        PER-124-04-1,ERIS_NIX_TEC_LABGAINLINEARITY239_0060.fits,       58722.6960843,                 6.0\n",
      "0045        PER-124-04-1,ERIS_NIX_TEC_LABGAINLINEARITY239_0061.fits,       58722.6965001,                 6.0\n",
      "0046        PER-124-04-1,ERIS_NIX_TEC_LABGAINLINEARITY239_0062.fits,       58722.6969146,                 8.0\n",
      "0047        PER-124-04-1,ERIS_NIX_TEC_LABGAINLINEARITY239_0063.fits,       58722.6974254,                 8.0\n",
      "0048        PER-124-04-1,ERIS_NIX_TEC_LABGAINLINEARITY239_0064.fits,       58722.6979214,                10.0\n",
      "0049        PER-124-04-1,ERIS_NIX_TEC_LABGAINLINEARITY239_0065.fits,       58722.6985284,                10.0\n",
      "0050        PER-124-04-1,ERIS_NIX_TEC_LABGAINLINEARITY239_0066.fits,       58722.6991197,                12.0\n",
      "0051        PER-124-04-1,ERIS_NIX_TEC_LABGAINLINEARITY239_0067.fits,       58722.6998091,                12.0\n",
      "0052        PER-124-04-1,ERIS_NIX_TEC_LABGAINLINEARITY239_0068.fits,       58722.7005032,                14.0\n",
      "0053        PER-124-04-1,ERIS_NIX_TEC_LABGAINLINEARITY239_0069.fits,       58722.7012921,                14.0\n",
      "0054        PER-124-04-1,ERIS_NIX_TEC_LABGAINLINEARITY239_0070.fits,       58722.7020542,                16.0\n",
      "0055        PER-124-04-1,ERIS_NIX_TEC_LABGAINLINEARITY239_0071.fits,       58722.7029343,                16.0\n",
      "0056        PER-124-04-1,ERIS_NIX_TEC_LABGAINLINEARITY239_0072.fits,        58722.703798,                18.0\n",
      "0057        PER-124-04-1,ERIS_NIX_TEC_LABGAINLINEARITY239_0073.fits,        58722.704764,                18.0\n",
      "0058        PER-124-04-1,ERIS_NIX_TEC_LABGAINLINEARITY239_0074.fits,       58722.7057353,                20.0\n",
      "0059        PER-124-04-1,ERIS_NIX_TEC_LABGAINLINEARITY239_0075.fits,       58722.7068012,                20.0\n",
      "0060        PER-124-04-1,ERIS_NIX_TEC_LABGAINLINEARITY239_0076.fits,       58722.7078642,                22.0\n",
      "0061        PER-124-04-1,ERIS_NIX_TEC_LABGAINLINEARITY239_0077.fits,       58722.7090213,                22.0\n",
      "0062        PER-124-04-1,ERIS_NIX_TEC_LABGAINLINEARITY239_0078.fits,       58722.7101614,                24.0\n",
      "0063        PER-124-04-1,ERIS_NIX_TEC_LABGAINLINEARITY239_0079.fits,       58722.7114085,                24.0\n",
      "0064        PER-124-04-1,ERIS_NIX_TEC_LABGAINLINEARITY239_0080.fits,       58722.7126391,                26.0\n",
      "0065        PER-124-04-1,ERIS_NIX_TEC_LABGAINLINEARITY239_0081.fits,       58722.7139793,                26.0\n",
      "0066        PER-124-04-1,ERIS_NIX_TEC_LABGAINLINEARITY239_0082.fits,       58722.7153231,                28.0\n",
      "0067        PER-124-04-1,ERIS_NIX_TEC_LABGAINLINEARITY239_0083.fits,       58722.7167549,                28.0\n",
      "0068        PER-124-04-1,ERIS_NIX_TEC_LABGAINLINEARITY239_0084.fits,       58722.7181835,                30.0\n",
      "0069        PER-124-04-1,ERIS_NIX_TEC_LABGAINLINEARITY239_0085.fits,       58722.7197156,                30.0\n",
      "0070        PER-124-04-1,ERIS_NIX_TEC_LABGAINLINEARITY239_0086.fits,       58722.7212235,                32.0\n",
      "0071        PER-124-04-1,ERIS_NIX_TEC_LABGAINLINEARITY239_0087.fits,        58722.722842,                32.0\n",
      "0072        PER-124-04-1,ERIS_NIX_TEC_LABGAINLINEARITY239_0088.fits,       58722.7244617,                34.0\n",
      "0073        PER-124-04-1,ERIS_NIX_TEC_LABGAINLINEARITY239_0089.fits,       58722.7261767,                34.0\n",
      "0074        PER-124-04-1,ERIS_NIX_TEC_LABGAINLINEARITY239_0090.fits,       58722.7278696,                36.0\n",
      "0075        PER-124-04-1,ERIS_NIX_TEC_LABGAINLINEARITY239_0091.fits,       58722.7296693,                36.0\n",
      "0076        PER-124-04-1,ERIS_NIX_TEC_LABGAINLINEARITY239_0092.fits,       58722.7314583,                38.0\n",
      "0077        PER-124-04-1,ERIS_NIX_TEC_LABGAINLINEARITY239_0093.fits,       58722.7333669,                38.0\n",
      "0078        PER-124-04-1,ERIS_NIX_TEC_LABGAINLINEARITY239_0094.fits,       58722.7352503,                40.0\n",
      "0079        PER-124-04-1,ERIS_NIX_TEC_LABGAINLINEARITY239_0095.fits,       58722.7372408,                40.0\n"
     ]
    }
   ],
   "source": [
    "keywords = ['MJD-OBS', 'HIERARCH ESO DET SEQ1 DIT']\n",
    "tbl_fmt = '%20s,%40s,%20s,%20s'\n",
    "\n",
    "NIX_GL.printTable(keywords, tbl_fmt)"
   ]
  },
  {
   "cell_type": "code",
   "execution_count": 6,
   "metadata": {},
   "outputs": [
    {
     "data": {
      "text/plain": [
       "[<matplotlib.lines.Line2D at 0x7ff0561fac10>]"
      ]
     },
     "execution_count": 6,
     "metadata": {},
     "output_type": "execute_result"
    },
    {
     "data": {
      "image/png": "[encoded data removed]",
      "text/plain": [
       "<Figure size 432x288 with 1 Axes>"
      ]
     },
     "metadata": {
      "needs_background": "light"
     },
     "output_type": "display_data"
    }
   ],
   "source": [
    "plt.plot(NIX_GL.getMedian())"
   ]
  },
  {
   "cell_type": "code",
   "execution_count": null,
   "metadata": {},
   "outputs": [],
   "source": []
  }
 ],
 "metadata": {
  "kernelspec": {
   "display_name": "Python 2",
   "language": "python",
   "name": "python2"
  },
  "language_info": {
   "codemirror_mode": {
    "name": "ipython",
    "version": 2
   },
   "file_extension": ".py",
   "mimetype": "text/x-python",
   "name": "python",
   "nbconvert_exporter": "python",
   "pygments_lexer": "ipython2",
   "version": "2.7.16"
  }
 },
 "nbformat": 4,
 "nbformat_minor": 2
}
